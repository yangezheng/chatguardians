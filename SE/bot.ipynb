{
 "cells": [
  {
   "cell_type": "code",
   "execution_count": null,
   "metadata": {},
   "outputs": [],
   "source": [
    "## install libraries\n",
    "\n",
    "%pip install -r requirements.txt"
   ]
  },
  {
   "cell_type": "markdown",
   "metadata": {},
   "source": [
    "## Test if the credentials can be retrived"
   ]
  },
  {
   "cell_type": "code",
   "execution_count": null,
   "metadata": {},
   "outputs": [],
   "source": [
    "import json\n",
    "\n",
    "file_path = \"credentials.json\"\n",
    "\n",
    "with open(file_path, 'r') as json_file:\n",
    "    token_data = json.load(json_file)\n",
    "\n",
    "token = token_data.get(\"Telegram_Token\")\n",
    "bot_username = token_data.get(\"bot_username\")\n",
    "if token:\n",
    "    print(f\"Token read successfully: {token}\")\n",
    "else:\n",
    "    print(\"Error: Token not found in the JSON file.\")"
   ]
  },
  {
   "cell_type": "code",
   "execution_count": null,
   "metadata": {},
   "outputs": [],
   "source": [
    "from typing import Final\n",
    "from telegram import Update\n",
    "from telegram.ext import Application, CommandHandler, MessageHandler, filters, ContextTypes\n",
    "\n",
    "TOKEN: Final = token\n",
    "BOT_USERNAME: Final = bot_username\n",
    "\n",
    "async def start_command(update: Update, context: ContextTypes.DEFAULT_TYPE):\n",
    "    await update.message.reply_text(\"Hello! Thanks for chatting with me! I'm a Chat Guardian!\")\n",
    "\n",
    "async def help_command(update: Update, context: ContextTypes.DEFAULT_TYPE):\n",
    "    await update.message.reply_text(\"I'm a Chat Guardian! How can I help you?\")\n",
    "\n",
    "async def custom_command(update: Update, context: ContextTypes.DEFAULT_TYPE):\n",
    "    await update.message.reply_text(\"I'm a Chat Guardian! How can I answer your question?\")\n",
    "\n",
    "# Responses\n",
    "\n",
    "def handle_response(text: str) -> str:\n",
    "    processed: str = text.lower()\n",
    "\n",
    "    if 'hello' in processed:\n",
    "        return 'Hey there'\n",
    "    \n",
    "    if 'how are you' in processed:\n",
    "        return \"I'm good, how are you?\"\n",
    "    \n",
    "    return 'I do not understand what you wrote...'\n",
    "\n",
    "async def handle_message(update: Update, context: ContextTypes.DEFAULT_TYPE):\n",
    "    message_type: str = update.message.chat.type\n",
    "    text: str = update.message.text\n",
    "    \n",
    "    print(f'User ({update.message.chat.id}) in {message_type}: \"{text}\"')\n",
    "\n",
    "    if message_type == 'group':\n",
    "        if BOT_USERNAME in text:\n",
    "            new_text: str = text.replace(BOT_USERNAME, '').strip()\n",
    "            response: str = handle_response(new_text)\n",
    "        else:\n",
    "            return\n",
    "    else:\n",
    "        response: str = handle_response(text)\n",
    "\n",
    "    print('Bot:', response)\n",
    "    await update.message.reply_text(response)\n",
    "\n",
    "async def error(update: Update, context: ContextTypes.DEFAULT_TYPE):\n",
    "    print(f'Update {update} caused error {context.error}')\n",
    "\n",
    "if __name__ == '__main__':\n",
    "    app = Application.builder().token(TOKEN).build()\n",
    "\n",
    "    # Commands\n",
    "    app.add_handler(CommandHandler('start',start_command))\n",
    "    app.add_handler(CommandHandler('help',help_command))  \n",
    "    app.add_handler(CommandHandler('custom',custom_command)) \n",
    "\n",
    "    # Messages\n",
    "    app.add_handler(MessageHandler(filters.TEXT, handle_message))\n",
    "\n",
    "    # Errors\n",
    "    app.add_error_handler(error)\n",
    "\n",
    "    # Polls the bot\n",
    "    print('Polling...')\n",
    "    app.run_polling(poll_interval=3)"
   ]
  },
  {
   "cell_type": "code",
   "execution_count": null,
   "metadata": {},
   "outputs": [],
   "source": []
  }
 ],
 "metadata": {
  "kernelspec": {
   "display_name": "nlp",
   "language": "python",
   "name": "python3"
  },
  "language_info": {
   "codemirror_mode": {
    "name": "ipython",
    "version": 3
   },
   "file_extension": ".py",
   "mimetype": "text/x-python",
   "name": "python",
   "nbconvert_exporter": "python",
   "pygments_lexer": "ipython3",
   "version": "3.11.6"
  }
 },
 "nbformat": 4,
 "nbformat_minor": 2
}
