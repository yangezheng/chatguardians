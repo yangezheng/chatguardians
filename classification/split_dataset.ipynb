{
 "cells": [
  {
   "cell_type": "code",
   "execution_count": 53,
   "metadata": {},
   "outputs": [
    {
     "data": {
      "text/plain": [
       "Dataset({\n",
       "    features: ['text', 'label_sexist'],\n",
       "    num_rows: 1137\n",
       "})"
      ]
     },
     "execution_count": 53,
     "metadata": {},
     "output_type": "execute_result"
    }
   ],
   "source": [
    "from datasets import load_dataset\n",
    "import datasets\n",
    "tum_dataset = load_dataset(\"tum-nlp/sexism-socialmedia-balanced\", split='train')\n",
    "work_dataset = load_dataset(\"lidiapierre/fr_sexism_labelled\", split='train')\n",
    "work_dataset = work_dataset.rename_column(\"Label\", \"label_sexist\")\n",
    "work_dataset = work_dataset.rename_column(\"Sentences\", \"text\")\n",
    "work_dataset = work_dataset.remove_columns([\"fr_sentences\", \"Unnamed: 0\"])\n",
    "work_dataset"
   ]
  },
  {
   "cell_type": "code",
   "execution_count": 45,
   "metadata": {},
   "outputs": [],
   "source": [
    "tum_split = tum_dataset.train_test_split(test_size=0.1)\n",
    "tum_train = tum_split['train']\n",
    "tum_test = tum_split['test']\n"
   ]
  },
  {
   "cell_type": "code",
   "execution_count": null,
   "metadata": {},
   "outputs": [],
   "source": [
    "work_split = work_dataset.train_test_split(test_size=0.1)\n",
    "work_train = work_split['train']\n",
    "work_test = work_split['test']"
   ]
  },
  {
   "cell_type": "code",
   "execution_count": null,
   "metadata": {},
   "outputs": [],
   "source": [
    "work"
   ]
  },
  {
   "cell_type": "code",
   "execution_count": 49,
   "metadata": {},
   "outputs": [
    {
     "data": {
      "text/plain": [
       "Dataset({\n",
       "    features: ['text', 'label_sexist', 'Unnamed: 0', 'Sentences', 'Label', 'fr_sentences'],\n",
       "    num_rows: 19120\n",
       "})"
      ]
     },
     "execution_count": 49,
     "metadata": {},
     "output_type": "execute_result"
    }
   ],
   "source": [
    "from datasets import concatenate_datasets\n",
    "\n",
    "# Concatenate tum_train with work_train\n",
    "concatenated_train = concatenate_datasets([tum_train, work_train])\n",
    "\n",
    "concatenate_datasets.map(lambda x: {'label': 1 if x['label'] == 1 else 0})\n"
   ]
  }
 ],
 "metadata": {
  "kernelspec": {
   "display_name": "base",
   "language": "python",
   "name": "python3"
  },
  "language_info": {
   "codemirror_mode": {
    "name": "ipython",
    "version": 3
   },
   "file_extension": ".py",
   "mimetype": "text/x-python",
   "name": "python",
   "nbconvert_exporter": "python",
   "pygments_lexer": "ipython3",
   "version": "3.11.3"
  }
 },
 "nbformat": 4,
 "nbformat_minor": 2
}
