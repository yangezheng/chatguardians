{
 "cells": [
  {
   "cell_type": "code",
   "execution_count": 1,
   "metadata": {},
   "outputs": [],
   "source": [
    "from transformers import AutoTokenizer, DataCollatorWithPadding\n",
    "from datasets import load_dataset\n",
    "\n",
    "raw_datasets = load_dataset(\"yangezheng/tum-nlp-sexism-socialmedia-balanced\")\n",
    "\n",
    "raw_datasets = raw_datasets.filter(lambda x: x['text'] != None)\n",
    "raw_datasets = raw_datasets.filter(lambda x: len(x['text']) <= 500)\n",
    "\n",
    "checkpoint = \"bert-base-uncased\"\n",
    "tokenizer = AutoTokenizer.from_pretrained(checkpoint)\n",
    "\n",
    "def tokenize_function(row):\n",
    "    return tokenizer(row[\"text\"], truncation=True)\n",
    "\n",
    "# apply tokenizer to dataset\n",
    "tokenized_datasets = raw_datasets.map(tokenize_function, batched=True)\n",
    "\n",
    "# collation\n",
    "data_collator = DataCollatorWithPadding(tokenizer=tokenizer)"
   ]
  },
  {
   "cell_type": "code",
   "execution_count": 2,
   "metadata": {},
   "outputs": [
    {
     "data": {
      "text/plain": [
       "DatasetDict({\n",
       "    train: Dataset({\n",
       "        features: ['text', 'label_sexist'],\n",
       "        num_rows: 16274\n",
       "    })\n",
       "    validation: Dataset({\n",
       "        features: ['text', 'label_sexist'],\n",
       "        num_rows: 1810\n",
       "    })\n",
       "    test: Dataset({\n",
       "        features: ['text', 'label_sexist'],\n",
       "        num_rows: 2008\n",
       "    })\n",
       "})"
      ]
     },
     "execution_count": 2,
     "metadata": {},
     "output_type": "execute_result"
    }
   ],
   "source": [
    "raw_datasets"
   ]
  },
  {
   "cell_type": "markdown",
   "metadata": {},
   "source": [
    "### Statistic "
   ]
  },
  {
   "cell_type": "code",
   "execution_count": 3,
   "metadata": {},
   "outputs": [
    {
     "name": "stdout",
     "output_type": "stream",
     "text": [
      "                                                text  label_sexist\n",
      "0  ITALY - RAPE JIHAD days after horrific gang-ra...             0\n",
      "1  I dont take you places because I wanna be frie...             1\n",
      "2  [USER] This is actually the most worrying bit ...             1\n",
      "3  You mother fucking piece of trash stupid fucki...             1\n",
      "4         Yes, this will certainly bring down Trump.             0\n"
     ]
    }
   ],
   "source": [
    "import pandas as pd\n",
    "import seaborn as sns\n",
    "import matplotlib.pyplot as plt\n",
    "\n",
    "import nltk\n",
    "from nltk.tokenize import sent_tokenize\n",
    "\n",
    "def count_sentences(text):\n",
    "    sentences = sent_tokenize(text)\n",
    "    return len(sentences)\n",
    "\n",
    "\n",
    "df = pd.DataFrame(raw_datasets['train'])\n",
    "print(df.head())"
   ]
  },
  {
   "cell_type": "code",
   "execution_count": 4,
   "metadata": {},
   "outputs": [
    {
     "data": {
      "image/png": "[encoded data removed]",
      "text/plain": [
       "<Figure size 640x480 with 1 Axes>"
      ]
     },
     "metadata": {},
     "output_type": "display_data"
    }
   ],
   "source": [
    "df['sentence_count'] = df['text'].apply(count_sentences)\n",
    "sns.histplot(df['sentence_count'], bins = 20)\n",
    "plt.title(\"Distribution of Sentence Count\")\n",
    "plt.xlabel(\"Sentence Count\")\n",
    "plt.ylabel(\"Frequency\")\n",
    "plt.show()"
   ]
  },
  {
   "cell_type": "code",
   "execution_count": 5,
   "metadata": {},
   "outputs": [
    {
     "data": {
      "text/html": [
       "<div>\n",
       "<style scoped>\n",
       "    .dataframe tbody tr th:only-of-type {\n",
       "        vertical-align: middle;\n",
       "    }\n",
       "\n",
       "    .dataframe tbody tr th {\n",
       "        vertical-align: top;\n",
       "    }\n",
       "\n",
       "    .dataframe thead th {\n",
       "        text-align: right;\n",
       "    }\n",
       "</style>\n",
       "<table border=\"1\" class=\"dataframe\">\n",
       "  <thead>\n",
       "    <tr style=\"text-align: right;\">\n",
       "      <th></th>\n",
       "      <th>text</th>\n",
       "      <th>label_sexist</th>\n",
       "      <th>sentence_count</th>\n",
       "    </tr>\n",
       "  </thead>\n",
       "  <tbody>\n",
       "    <tr>\n",
       "      <th>0</th>\n",
       "      <td>ITALY - RAPE JIHAD days after horrific gang-ra...</td>\n",
       "      <td>0</td>\n",
       "      <td>2</td>\n",
       "    </tr>\n",
       "    <tr>\n",
       "      <th>1</th>\n",
       "      <td>I dont take you places because I wanna be frie...</td>\n",
       "      <td>1</td>\n",
       "      <td>1</td>\n",
       "    </tr>\n",
       "    <tr>\n",
       "      <th>2</th>\n",
       "      <td>[USER] This is actually the most worrying bit ...</td>\n",
       "      <td>1</td>\n",
       "      <td>3</td>\n",
       "    </tr>\n",
       "    <tr>\n",
       "      <th>3</th>\n",
       "      <td>You mother fucking piece of trash stupid fucki...</td>\n",
       "      <td>1</td>\n",
       "      <td>1</td>\n",
       "    </tr>\n",
       "    <tr>\n",
       "      <th>4</th>\n",
       "      <td>Yes, this will certainly bring down Trump.</td>\n",
       "      <td>0</td>\n",
       "      <td>1</td>\n",
       "    </tr>\n",
       "  </tbody>\n",
       "</table>\n",
       "</div>"
      ],
      "text/plain": [
       "                                                text  label_sexist  \\\n",
       "0  ITALY - RAPE JIHAD days after horrific gang-ra...             0   \n",
       "1  I dont take you places because I wanna be frie...             1   \n",
       "2  [USER] This is actually the most worrying bit ...             1   \n",
       "3  You mother fucking piece of trash stupid fucki...             1   \n",
       "4         Yes, this will certainly bring down Trump.             0   \n",
       "\n",
       "   sentence_count  \n",
       "0               2  \n",
       "1               1  \n",
       "2               3  \n",
       "3               1  \n",
       "4               1  "
      ]
     },
     "execution_count": 5,
     "metadata": {},
     "output_type": "execute_result"
    }
   ],
   "source": [
    "# filter out rows with more than 3 sentence\n",
    "df = df[df['sentence_count'] <= 3]\n",
    "df.head()"
   ]
  },
  {
   "cell_type": "code",
   "execution_count": 6,
   "metadata": {},
   "outputs": [
    {
     "data": {
      "text/html": [
       "<div>\n",
       "<style scoped>\n",
       "    .dataframe tbody tr th:only-of-type {\n",
       "        vertical-align: middle;\n",
       "    }\n",
       "\n",
       "    .dataframe tbody tr th {\n",
       "        vertical-align: top;\n",
       "    }\n",
       "\n",
       "    .dataframe thead th {\n",
       "        text-align: right;\n",
       "    }\n",
       "</style>\n",
       "<table border=\"1\" class=\"dataframe\">\n",
       "  <thead>\n",
       "    <tr style=\"text-align: right;\">\n",
       "      <th></th>\n",
       "      <th>text</th>\n",
       "      <th>label_sexist</th>\n",
       "      <th>sentence_count</th>\n",
       "    </tr>\n",
       "  </thead>\n",
       "  <tbody>\n",
       "    <tr>\n",
       "      <th>0</th>\n",
       "      <td>ITALY - RAPE JIHAD days after horrific gang-ra...</td>\n",
       "      <td>0</td>\n",
       "      <td>2</td>\n",
       "    </tr>\n",
       "    <tr>\n",
       "      <th>1</th>\n",
       "      <td>I dont take you places because I wanna be frie...</td>\n",
       "      <td>1</td>\n",
       "      <td>1</td>\n",
       "    </tr>\n",
       "    <tr>\n",
       "      <th>2</th>\n",
       "      <td>[USER] This is actually the most worrying bit ...</td>\n",
       "      <td>1</td>\n",
       "      <td>3</td>\n",
       "    </tr>\n",
       "    <tr>\n",
       "      <th>3</th>\n",
       "      <td>You mother fucking piece of trash stupid fucki...</td>\n",
       "      <td>1</td>\n",
       "      <td>1</td>\n",
       "    </tr>\n",
       "    <tr>\n",
       "      <th>4</th>\n",
       "      <td>Yes, this will certainly bring down Trump.</td>\n",
       "      <td>0</td>\n",
       "      <td>1</td>\n",
       "    </tr>\n",
       "    <tr>\n",
       "      <th>...</th>\n",
       "      <td>...</td>\n",
       "      <td>...</td>\n",
       "      <td>...</td>\n",
       "    </tr>\n",
       "    <tr>\n",
       "      <th>16269</th>\n",
       "      <td>WTF? Good to know the Nation has this Green LO...</td>\n",
       "      <td>0</td>\n",
       "      <td>2</td>\n",
       "    </tr>\n",
       "    <tr>\n",
       "      <th>16270</th>\n",
       "      <td>[USER] Breaking news: women have to suck the D...</td>\n",
       "      <td>1</td>\n",
       "      <td>1</td>\n",
       "    </tr>\n",
       "    <tr>\n",
       "      <th>16271</th>\n",
       "      <td>Whether or not you agree, feminism is about me...</td>\n",
       "      <td>1</td>\n",
       "      <td>2</td>\n",
       "    </tr>\n",
       "    <tr>\n",
       "      <th>16272</th>\n",
       "      <td>The application of successfully completing the...</td>\n",
       "      <td>1</td>\n",
       "      <td>1</td>\n",
       "    </tr>\n",
       "    <tr>\n",
       "      <th>16273</th>\n",
       "      <td>If she ignores you all week then 100% block an...</td>\n",
       "      <td>1</td>\n",
       "      <td>2</td>\n",
       "    </tr>\n",
       "  </tbody>\n",
       "</table>\n",
       "<p>14564 rows × 3 columns</p>\n",
       "</div>"
      ],
      "text/plain": [
       "                                                    text  label_sexist  \\\n",
       "0      ITALY - RAPE JIHAD days after horrific gang-ra...             0   \n",
       "1      I dont take you places because I wanna be frie...             1   \n",
       "2      [USER] This is actually the most worrying bit ...             1   \n",
       "3      You mother fucking piece of trash stupid fucki...             1   \n",
       "4             Yes, this will certainly bring down Trump.             0   \n",
       "...                                                  ...           ...   \n",
       "16269  WTF? Good to know the Nation has this Green LO...             0   \n",
       "16270  [USER] Breaking news: women have to suck the D...             1   \n",
       "16271  Whether or not you agree, feminism is about me...             1   \n",
       "16272  The application of successfully completing the...             1   \n",
       "16273  If she ignores you all week then 100% block an...             1   \n",
       "\n",
       "       sentence_count  \n",
       "0                   2  \n",
       "1                   1  \n",
       "2                   3  \n",
       "3                   1  \n",
       "4                   1  \n",
       "...               ...  \n",
       "16269               2  \n",
       "16270               1  \n",
       "16271               2  \n",
       "16272               1  \n",
       "16273               2  \n",
       "\n",
       "[14564 rows x 3 columns]"
      ]
     },
     "execution_count": 6,
     "metadata": {},
     "output_type": "execute_result"
    }
   ],
   "source": [
    "df"
   ]
  },
  {
   "cell_type": "code",
   "execution_count": 61,
   "metadata": {},
   "outputs": [
    {
     "data": {
      "image/png": "[encoded data removed]",
      "text/plain": [
       "<Figure size 640x480 with 1 Axes>"
      ]
     },
     "metadata": {},
     "output_type": "display_data"
    }
   ],
   "source": [
    "df['text_length'] = df['text'].apply(len)\n",
    "sns.histplot(df['text_length'], bins = 20)\n",
    "plt.title(\"Distribution of Text Lengths\")\n",
    "plt.xlabel(\"Text Length\")\n",
    "plt.ylabel(\"Frequency\")\n",
    "plt.show()"
   ]
  },
  {
   "cell_type": "code",
   "execution_count": 62,
   "metadata": {},
   "outputs": [],
   "source": [
    "df = df[df['text_length'] < 300]\n",
    "df = df[df['text_length'] > 200]\n"
   ]
  },
  {
   "cell_type": "code",
   "execution_count": 45,
   "metadata": {},
   "outputs": [
    {
     "data": {
      "text/html": [
       "<div>\n",
       "<style scoped>\n",
       "    .dataframe tbody tr th:only-of-type {\n",
       "        vertical-align: middle;\n",
       "    }\n",
       "\n",
       "    .dataframe tbody tr th {\n",
       "        vertical-align: top;\n",
       "    }\n",
       "\n",
       "    .dataframe thead th {\n",
       "        text-align: right;\n",
       "    }\n",
       "</style>\n",
       "<table border=\"1\" class=\"dataframe\">\n",
       "  <thead>\n",
       "    <tr style=\"text-align: right;\">\n",
       "      <th></th>\n",
       "      <th>text</th>\n",
       "      <th>label_sexist</th>\n",
       "      <th>sentence_count</th>\n",
       "      <th>text_length</th>\n",
       "    </tr>\n",
       "  </thead>\n",
       "  <tbody>\n",
       "    <tr>\n",
       "      <th>27</th>\n",
       "      <td>I am so sick to look those pussies, the child ...</td>\n",
       "      <td>1</td>\n",
       "      <td>2</td>\n",
       "      <td>311</td>\n",
       "    </tr>\n",
       "    <tr>\n",
       "      <th>1150</th>\n",
       "      <td>Judge Kavanaugh is a secret Satanist who does ...</td>\n",
       "      <td>1</td>\n",
       "      <td>2</td>\n",
       "      <td>328</td>\n",
       "    </tr>\n",
       "    <tr>\n",
       "      <th>1152</th>\n",
       "      <td>Any woman should be dressed appropriately, in ...</td>\n",
       "      <td>1</td>\n",
       "      <td>1</td>\n",
       "      <td>315</td>\n",
       "    </tr>\n",
       "    <tr>\n",
       "      <th>1172</th>\n",
       "      <td>Unless I can find a reliable partner that won'...</td>\n",
       "      <td>1</td>\n",
       "      <td>3</td>\n",
       "      <td>444</td>\n",
       "    </tr>\n",
       "    <tr>\n",
       "      <th>1692</th>\n",
       "      <td>feminism is the biggest crock of shit to ever ...</td>\n",
       "      <td>1</td>\n",
       "      <td>3</td>\n",
       "      <td>363</td>\n",
       "    </tr>\n",
       "    <tr>\n",
       "      <th>3510</th>\n",
       "      <td>Well one month after she ditched me with the I...</td>\n",
       "      <td>1</td>\n",
       "      <td>2</td>\n",
       "      <td>331</td>\n",
       "    </tr>\n",
       "    <tr>\n",
       "      <th>4497</th>\n",
       "      <td>I think the real question when it comes to abo...</td>\n",
       "      <td>1</td>\n",
       "      <td>1</td>\n",
       "      <td>358</td>\n",
       "    </tr>\n",
       "    <tr>\n",
       "      <th>5819</th>\n",
       "      <td>From of us are astute enough to see *beyond th...</td>\n",
       "      <td>1</td>\n",
       "      <td>1</td>\n",
       "      <td>365</td>\n",
       "    </tr>\n",
       "    <tr>\n",
       "      <th>8444</th>\n",
       "      <td>When woman start asking for rights they become...</td>\n",
       "      <td>1</td>\n",
       "      <td>2</td>\n",
       "      <td>342</td>\n",
       "    </tr>\n",
       "    <tr>\n",
       "      <th>9056</th>\n",
       "      <td>Yeah, it is rough, but not for women. Married ...</td>\n",
       "      <td>1</td>\n",
       "      <td>3</td>\n",
       "      <td>327</td>\n",
       "    </tr>\n",
       "    <tr>\n",
       "      <th>9059</th>\n",
       "      <td>In the bake shop a young woman in a very short...</td>\n",
       "      <td>1</td>\n",
       "      <td>3</td>\n",
       "      <td>449</td>\n",
       "    </tr>\n",
       "    <tr>\n",
       "      <th>9904</th>\n",
       "      <td>It's kinda funny (that photo) looking at the b...</td>\n",
       "      <td>1</td>\n",
       "      <td>1</td>\n",
       "      <td>357</td>\n",
       "    </tr>\n",
       "    <tr>\n",
       "      <th>9924</th>\n",
       "      <td>Israeli ultra-Orthodox Jews 'harass' 8-year-ol...</td>\n",
       "      <td>1</td>\n",
       "      <td>1</td>\n",
       "      <td>328</td>\n",
       "    </tr>\n",
       "    <tr>\n",
       "      <th>10969</th>\n",
       "      <td>When woman start asking for rights they become...</td>\n",
       "      <td>1</td>\n",
       "      <td>2</td>\n",
       "      <td>342</td>\n",
       "    </tr>\n",
       "    <tr>\n",
       "      <th>11346</th>\n",
       "      <td>The only hysteria is from her mouth...or have ...</td>\n",
       "      <td>1</td>\n",
       "      <td>3</td>\n",
       "      <td>397</td>\n",
       "    </tr>\n",
       "    <tr>\n",
       "      <th>11450</th>\n",
       "      <td>Living with them all including our mother (rec...</td>\n",
       "      <td>1</td>\n",
       "      <td>3</td>\n",
       "      <td>351</td>\n",
       "    </tr>\n",
       "    <tr>\n",
       "      <th>12639</th>\n",
       "      <td>You are new to all this so I will forgive your...</td>\n",
       "      <td>1</td>\n",
       "      <td>1</td>\n",
       "      <td>377</td>\n",
       "    </tr>\n",
       "    <tr>\n",
       "      <th>15416</th>\n",
       "      <td>Yeah, it is rough, but not for women. Married ...</td>\n",
       "      <td>1</td>\n",
       "      <td>2</td>\n",
       "      <td>326</td>\n",
       "    </tr>\n",
       "    <tr>\n",
       "      <th>15547</th>\n",
       "      <td>It's kinda funny (that photo) looking at the b...</td>\n",
       "      <td>1</td>\n",
       "      <td>2</td>\n",
       "      <td>359</td>\n",
       "    </tr>\n",
       "    <tr>\n",
       "      <th>15614</th>\n",
       "      <td>Yeah, here you come knockin' on my door, baby ...</td>\n",
       "      <td>1</td>\n",
       "      <td>1</td>\n",
       "      <td>303</td>\n",
       "    </tr>\n",
       "  </tbody>\n",
       "</table>\n",
       "</div>"
      ],
      "text/plain": [
       "                                                    text  label_sexist  \\\n",
       "27     I am so sick to look those pussies, the child ...             1   \n",
       "1150   Judge Kavanaugh is a secret Satanist who does ...             1   \n",
       "1152   Any woman should be dressed appropriately, in ...             1   \n",
       "1172   Unless I can find a reliable partner that won'...             1   \n",
       "1692   feminism is the biggest crock of shit to ever ...             1   \n",
       "3510   Well one month after she ditched me with the I...             1   \n",
       "4497   I think the real question when it comes to abo...             1   \n",
       "5819   From of us are astute enough to see *beyond th...             1   \n",
       "8444   When woman start asking for rights they become...             1   \n",
       "9056   Yeah, it is rough, but not for women. Married ...             1   \n",
       "9059   In the bake shop a young woman in a very short...             1   \n",
       "9904   It's kinda funny (that photo) looking at the b...             1   \n",
       "9924   Israeli ultra-Orthodox Jews 'harass' 8-year-ol...             1   \n",
       "10969  When woman start asking for rights they become...             1   \n",
       "11346  The only hysteria is from her mouth...or have ...             1   \n",
       "11450  Living with them all including our mother (rec...             1   \n",
       "12639  You are new to all this so I will forgive your...             1   \n",
       "15416  Yeah, it is rough, but not for women. Married ...             1   \n",
       "15547  It's kinda funny (that photo) looking at the b...             1   \n",
       "15614  Yeah, here you come knockin' on my door, baby ...             1   \n",
       "\n",
       "       sentence_count  text_length  \n",
       "27                  2          311  \n",
       "1150                2          328  \n",
       "1152                1          315  \n",
       "1172                3          444  \n",
       "1692                3          363  \n",
       "3510                2          331  \n",
       "4497                1          358  \n",
       "5819                1          365  \n",
       "8444                2          342  \n",
       "9056                3          327  \n",
       "9059                3          449  \n",
       "9904                1          357  \n",
       "9924                1          328  \n",
       "10969               2          342  \n",
       "11346               3          397  \n",
       "11450               3          351  \n",
       "12639               1          377  \n",
       "15416               2          326  \n",
       "15547               2          359  \n",
       "15614               1          303  "
      ]
     },
     "execution_count": 45,
     "metadata": {},
     "output_type": "execute_result"
    }
   ],
   "source": [
    "df"
   ]
  },
  {
   "cell_type": "code",
   "execution_count": 63,
   "metadata": {},
   "outputs": [
    {
     "data": {
      "text/plain": [
       "{'text': \"In the bake shop a young woman in a very short skirt was serving the customers.A couple of young men and a seasoned citizen entered. After the young fellows checked the shelves, each ordered raisin bread.It was on a high shelf, and the young lady needed a ladder to access it.After serving the two young men, halfway down from her second trip up the ladder she asked the old gentlemanIs yours raisin too? Nope, he replied, but it's twitchin' a mite!\",\n",
       " 'label_sexist': 1}"
      ]
     },
     "execution_count": 63,
     "metadata": {},
     "output_type": "execute_result"
    }
   ],
   "source": [
    "raw_datasets['train'][9059]"
   ]
  },
  {
   "cell_type": "markdown",
   "metadata": {},
   "source": [
    "### Tokenized"
   ]
  },
  {
   "cell_type": "code",
   "execution_count": 7,
   "metadata": {},
   "outputs": [
    {
     "data": {
      "text/plain": [
       "['labels', 'input_ids', 'token_type_ids', 'attention_mask']"
      ]
     },
     "execution_count": 7,
     "metadata": {},
     "output_type": "execute_result"
    }
   ],
   "source": [
    "tokenized_datasets = tokenized_datasets.remove_columns([\"text\"])\n",
    "tokenized_datasets = tokenized_datasets.rename_column(\"label_sexist\", \"labels\")\n",
    "tokenized_datasets.set_format(\"torch\")\n",
    "tokenized_datasets[\"train\"].column_names"
   ]
  },
  {
   "cell_type": "code",
   "execution_count": 9,
   "metadata": {},
   "outputs": [],
   "source": [
    "from torch.utils.data import DataLoader\n",
    "\n",
    "train_dataloader = DataLoader(\n",
    "    tokenized_datasets[\"train\"], shuffle=True, batch_size=8, collate_fn=data_collator\n",
    ")\n",
    "eval_dataloader = DataLoader(\n",
    "    tokenized_datasets[\"validation\"], batch_size=8, collate_fn=data_collator\n",
    ")"
   ]
  },
  {
   "cell_type": "code",
   "execution_count": 10,
   "metadata": {},
   "outputs": [
    {
     "name": "stderr",
     "output_type": "stream",
     "text": [
      "You're using a BertTokenizerFast tokenizer. Please note that with a fast tokenizer, using the `__call__` method is faster than using a method to encode the text followed by a call to the `pad` method to get a padded encoding.\n"
     ]
    }
   ],
   "source": [
    "for batch in train_dataloader:\n",
    "    break\n",
    "b = {k: v.shape for k, v in batch.items()}"
   ]
  },
  {
   "cell_type": "markdown",
   "metadata": {},
   "source": [
    "### Model Head"
   ]
  },
  {
   "cell_type": "code",
   "execution_count": 11,
   "metadata": {},
   "outputs": [
    {
     "data": {
      "text/plain": [
       "SequenceClassifierOutput(loss=tensor(0.8104, grad_fn=<NllLossBackward0>), logits=tensor([[-4.2297e-02,  6.4519e-01],\n",
       "        [-4.0331e-01,  1.0285e-04],\n",
       "        [-1.6470e-01,  3.1402e-01],\n",
       "        [-7.6098e-01,  2.0912e-01],\n",
       "        [ 3.9122e-01,  4.5087e-01],\n",
       "        [-6.0188e-01,  2.6089e-01],\n",
       "        [-9.8297e-01, -2.9353e-01],\n",
       "        [-1.7584e-01,  8.1596e-01]], grad_fn=<AddmmBackward0>), hidden_states=None, attentions=None)"
      ]
     },
     "execution_count": 11,
     "metadata": {},
     "output_type": "execute_result"
    }
   ],
   "source": [
    "import torch.nn as nn\n",
    "from transformers import AutoModel\n",
    "from transformers.modeling_outputs import SequenceClassifierOutput\n",
    "from torch.nn import BCEWithLogitsLoss, CrossEntropyLoss\n",
    "\n",
    "class MyBERTModel(nn.Module):\n",
    "    def __init__(self, is_frozen= True):\n",
    "        super(MyBERTModel, self).__init__()\n",
    "        \n",
    "        self.num_labels = 2\n",
    "        checkpoint = 'bert-base-uncased'\n",
    "        self.base_model = AutoModel.from_pretrained(checkpoint)\n",
    "        \n",
    "        if is_frozen:\n",
    "            self.freeze()\n",
    "            \n",
    "        self.classify = nn.Sequential(\n",
    "            nn.Dropout(0.5),\n",
    "            nn.Linear(self.base_model.config.hidden_size, self.num_labels)\n",
    "        )\n",
    "        \n",
    "    def freeze(self):\n",
    "        for param in self.base_model.parameters():\n",
    "            param.requires_grad = False\n",
    "        \n",
    "    def forward(self, input_ids, attention_mask, token_type_ids, labels=None):\n",
    "        model_outputs = self.base_model(input_ids = input_ids, attention_mask = attention_mask, token_type_ids = token_type_ids)\n",
    "        pooled_output = model_outputs['pooler_output']\n",
    "\n",
    "        logits = self.classify(pooled_output)\n",
    "        \n",
    "        loss_fct = CrossEntropyLoss()\n",
    "        loss = loss_fct(logits.view(-1, self.num_labels), labels.view(-1))\n",
    "        \n",
    "        return SequenceClassifierOutput(\n",
    "            loss = loss,\n",
    "            logits = logits\n",
    "        )\n",
    "        \n",
    "model = MyBERTModel()\n",
    "model(**{'input_ids':batch['input_ids'], 'labels':batch['labels'],  'token_type_ids':batch['token_type_ids'], 'attention_mask':batch['attention_mask']})\n"
   ]
  },
  {
   "cell_type": "markdown",
   "metadata": {},
   "source": [
    "### Optimizer & Scheduler"
   ]
  },
  {
   "cell_type": "code",
   "execution_count": 12,
   "metadata": {},
   "outputs": [
    {
     "name": "stderr",
     "output_type": "stream",
     "text": [
      "/home/yzheng/anaconda3/envs/pytorch/lib/python3.8/site-packages/transformers/optimization.py:411: FutureWarning: This implementation of AdamW is deprecated and will be removed in a future version. Use the PyTorch implementation torch.optim.AdamW instead, or set `no_deprecation_warning=True` to disable this warning\n",
      "  warnings.warn(\n"
     ]
    },
    {
     "name": "stdout",
     "output_type": "stream",
     "text": [
      "6105\n"
     ]
    },
    {
     "data": {
      "text/plain": [
       "device(type='cuda')"
      ]
     },
     "execution_count": 12,
     "metadata": {},
     "output_type": "execute_result"
    }
   ],
   "source": [
    "from transformers import AdamW\n",
    "\n",
    "optimizer = AdamW(model.parameters(), lr = 5e-5)\n",
    "\n",
    "from transformers import get_scheduler\n",
    "\n",
    "num_epochs = 3\n",
    "num_training_steps = num_epochs * len(train_dataloader)\n",
    "lr_scheduler = get_scheduler(\n",
    "    \"linear\",\n",
    "    optimizer=optimizer,\n",
    "    num_warmup_steps= 0,\n",
    "    num_training_steps=num_training_steps,\n",
    ")\n",
    "print(num_training_steps)\n",
    "\n",
    "import torch\n",
    "\n",
    "device = torch.device(\"cuda\") if torch.cuda.is_available() else torch.device(\"cpu\")\n",
    "model.to(device)\n",
    "\n",
    "device\n"
   ]
  },
  {
   "cell_type": "markdown",
   "metadata": {},
   "source": [
    "### evaluator"
   ]
  },
  {
   "cell_type": "code",
   "execution_count": 13,
   "metadata": {},
   "outputs": [
    {
     "data": {
      "text/plain": [
       "{'accuracy': 0.49060773480662984,\n",
       " 'f1': 0.6459293394777266,\n",
       " 'precision': 0.4949970570924073,\n",
       " 'recall': 0.9292817679558011}"
      ]
     },
     "execution_count": 13,
     "metadata": {},
     "output_type": "execute_result"
    }
   ],
   "source": [
    "import evaluate\n",
    "\n",
    "def eval(model, loader):\n",
    "    metric = evaluate.combine([\"accuracy\",\"f1\",\"precision\",\"recall\"])\n",
    "    # metric = evaluate.load(\"precision\")\n",
    "    model.eval()\n",
    "    for batch in loader:\n",
    "        batch = {k: v.to(device) for k,v in batch.items()}\n",
    "        with torch.no_grad():\n",
    "            outputs = model(**batch)\n",
    "            \n",
    "        logits = outputs.logits\n",
    "        predictions = torch.argmax(logits, dim=-1)\n",
    "        metric.add_batch(predictions=predictions,references=batch[\"labels\"])\n",
    "    \n",
    "    return metric.compute()\n",
    "\n",
    "eval(model, eval_dataloader)\n",
    "\n",
    "# print(f\"Accurary of the network currently is:{eval(model, eval_dataloader)['precision']} %\")\n",
    "        "
   ]
  },
  {
   "cell_type": "markdown",
   "metadata": {},
   "source": [
    "### Training"
   ]
  },
  {
   "cell_type": "code",
   "execution_count": 14,
   "metadata": {},
   "outputs": [
    {
     "name": "stderr",
     "output_type": "stream",
     "text": [
      "  0%|          | 11/6105 [00:07<48:30,  2.09it/s]  "
     ]
    },
    {
     "name": "stdout",
     "output_type": "stream",
     "text": [
      "before running: Evaluation [Precision: 0.4949970570924073, {'accuracy': 0.49060773480662984, 'f1': 0.6459293394777266, 'precision': 0.4949970570924073, 'recall': 0.9292817679558011}]%\n"
     ]
    },
    {
     "name": "stderr",
     "output_type": "stream",
     "text": [
      "  8%|▊         | 509/6105 [00:20<16:45,  5.57it/s]"
     ]
    },
    {
     "name": "stdout",
     "output_type": "stream",
     "text": [
      "Epoch[1/3], Step [499/6105]%\n",
      "Evaluation: {'accuracy': 0.554696132596685, 'f1': 0.6212406015037594, 'precision': 0.5404742436631235, 'recall': 0.7303867403314918}%\n"
     ]
    },
    {
     "name": "stderr",
     "output_type": "stream",
     "text": [
      " 17%|█▋        | 1011/6105 [00:33<13:17,  6.39it/s]"
     ]
    },
    {
     "name": "stdout",
     "output_type": "stream",
     "text": [
      "Epoch[1/3], Step [999/6105]%\n",
      "Evaluation: {'accuracy': 0.543646408839779, 'f1': 0.25316455696202533, 'precision': 0.6965174129353234, 'recall': 0.15469613259668508}%\n"
     ]
    },
    {
     "name": "stderr",
     "output_type": "stream",
     "text": [
      " 25%|██▍       | 1518/6105 [00:44<10:34,  7.23it/s] "
     ]
    },
    {
     "name": "stdout",
     "output_type": "stream",
     "text": [
      "Epoch[1/3], Step [1499/6105]%\n",
      "Evaluation: {'accuracy': 0.5806629834254143, 'f1': 0.4868154158215009, 'precision': 0.627177700348432, 'recall': 0.39779005524861877}%\n"
     ]
    },
    {
     "name": "stderr",
     "output_type": "stream",
     "text": [
      " 33%|███▎      | 2010/6105 [00:57<13:53,  4.92it/s] "
     ]
    },
    {
     "name": "stdout",
     "output_type": "stream",
     "text": [
      "Epoch[1/3], Step [1999/6105]%\n",
      "Evaluation: {'accuracy': 0.594475138121547, 'f1': 0.6045258620689655, 'precision': 0.5899053627760252, 'recall': 0.6198895027624309}%\n"
     ]
    },
    {
     "name": "stderr",
     "output_type": "stream",
     "text": [
      " 41%|████      | 2509/6105 [01:09<10:42,  5.60it/s]"
     ]
    },
    {
     "name": "stdout",
     "output_type": "stream",
     "text": [
      "Epoch[2/3], Step [2499/6105]%\n",
      "Evaluation: {'accuracy': 0.5889502762430939, 'f1': 0.49110807113543087, 'precision': 0.644524236983842, 'recall': 0.3966850828729282}%\n"
     ]
    },
    {
     "name": "stderr",
     "output_type": "stream",
     "text": [
      " 49%|████▉     | 3014/6105 [01:24<10:09,  5.07it/s]"
     ]
    },
    {
     "name": "stdout",
     "output_type": "stream",
     "text": [
      "Epoch[2/3], Step [2999/6105]%\n",
      "Evaluation: {'accuracy': 0.6093922651933702, 'f1': 0.5929763960852044, 'precision': 0.6189903846153846, 'recall': 0.569060773480663}%\n"
     ]
    },
    {
     "name": "stderr",
     "output_type": "stream",
     "text": [
      " 58%|█████▊    | 3516/6105 [01:36<07:13,  5.97it/s]"
     ]
    },
    {
     "name": "stdout",
     "output_type": "stream",
     "text": [
      "Epoch[2/3], Step [3499/6105]%\n",
      "Evaluation: {'accuracy': 0.5994475138121547, 'f1': 0.5098039215686274, 'precision': 0.6567944250871081, 'recall': 0.4165745856353591}%\n"
     ]
    },
    {
     "name": "stderr",
     "output_type": "stream",
     "text": [
      " 66%|██████▌   | 4016/6105 [01:48<04:49,  7.20it/s] "
     ]
    },
    {
     "name": "stdout",
     "output_type": "stream",
     "text": [
      "Epoch[2/3], Step [3999/6105]%\n",
      "Evaluation: {'accuracy': 0.6077348066298343, 'f1': 0.572289156626506, 'precision': 0.6291390728476821, 'recall': 0.5248618784530387}%\n"
     ]
    },
    {
     "name": "stderr",
     "output_type": "stream",
     "text": [
      " 74%|███████▍  | 4510/6105 [02:01<04:21,  6.09it/s]"
     ]
    },
    {
     "name": "stdout",
     "output_type": "stream",
     "text": [
      "Epoch[3/3], Step [4499/6105]%\n",
      "Evaluation: {'accuracy': 0.6093922651933702, 'f1': 0.5516804058338618, 'precision': 0.6473214285714286, 'recall': 0.48066298342541436}%\n"
     ]
    },
    {
     "name": "stderr",
     "output_type": "stream",
     "text": [
      " 82%|████████▏ | 5012/6105 [02:13<02:32,  7.17it/s] "
     ]
    },
    {
     "name": "stdout",
     "output_type": "stream",
     "text": [
      "Epoch[3/3], Step [4999/6105]%\n",
      "Evaluation: {'accuracy': 0.6082872928176796, 'f1': 0.5787284610814022, 'precision': 0.6259640102827764, 'recall': 0.538121546961326}%\n"
     ]
    },
    {
     "name": "stderr",
     "output_type": "stream",
     "text": [
      " 90%|█████████ | 5516/6105 [02:26<01:27,  6.71it/s] "
     ]
    },
    {
     "name": "stdout",
     "output_type": "stream",
     "text": [
      "Epoch[3/3], Step [5499/6105]%\n",
      "Evaluation: {'accuracy': 0.6066298342541436, 'f1': 0.5527638190954773, 'precision': 0.6404657933042213, 'recall': 0.4861878453038674}%\n"
     ]
    },
    {
     "name": "stderr",
     "output_type": "stream",
     "text": [
      " 98%|█████████▊| 6013/6105 [02:39<00:14,  6.37it/s] "
     ]
    },
    {
     "name": "stdout",
     "output_type": "stream",
     "text": [
      "Epoch[3/3], Step [5999/6105]%\n",
      "Evaluation: {'accuracy': 0.6099447513812155, 'f1': 0.5797619047619048, 'precision': 0.6283870967741936, 'recall': 0.538121546961326}%\n"
     ]
    },
    {
     "name": "stderr",
     "output_type": "stream",
     "text": [
      "100%|█████████▉| 6098/6105 [02:39<00:00, 53.06it/s]"
     ]
    },
    {
     "data": {
      "text/plain": [
       "<bound method SummaryWriter.close of <torch.utils.tensorboard.writer.SummaryWriter object at 0x7f7d6715f4f0>>"
      ]
     },
     "execution_count": 14,
     "metadata": {},
     "output_type": "execute_result"
    },
    {
     "name": "stderr",
     "output_type": "stream",
     "text": [
      "100%|██████████| 6105/6105 [02:50<00:00, 53.06it/s]"
     ]
    }
   ],
   "source": [
    "import sys\n",
    "\n",
    "\n",
    "from tqdm import tqdm\n",
    "from torch.utils.tensorboard import SummaryWriter\n",
    "\n",
    "progress_bar = tqdm(range(num_training_steps))\n",
    "writer = SummaryWriter(\"logs/third\")\n",
    "\n",
    "# running_loss = 0.0\n",
    "# running_correct = 0\n",
    "\n",
    "\n",
    "evaluation = eval(model,eval_dataloader)\n",
    "print(f\"before running: Evaluation [Precision: {evaluation['precision']}, {evaluation}]%\")\n",
    "\n",
    "global_step = 0\n",
    "\n",
    "model.train()\n",
    "for epoch in range(num_epochs):\n",
    "    for batch in train_dataloader:\n",
    "        batch = {k: v.to(device) for k, v in batch.items()}\n",
    "        \n",
    "        # forward pass\n",
    "        outputs = model(**batch)\n",
    "        \n",
    "        # compute loss\n",
    "        loss= outputs.loss\n",
    "        \n",
    "        # backward pass\n",
    "        loss.backward()\n",
    "        \n",
    "        # optimize\n",
    "        optimizer.step()\n",
    "        lr_scheduler.step()\n",
    "        optimizer.zero_grad()\n",
    "        \n",
    "        # runing loss\n",
    "        \n",
    "        # running_loss += loss.item()\n",
    "        # predictions = torch.argmax(outputs.logits, dim=-1)\n",
    "        # running_correct += (predictions == batch[\"labels\"]).sum().item()\n",
    "        \n",
    "        if (global_step+1)%500 == 0:\n",
    "            evaluation = eval(model,eval_dataloader)\n",
    "            print(f\"Epoch[{epoch+1}/{num_epochs}], Step [{global_step}/{num_training_steps}]%\")\n",
    "            print(f\"Evaluation: {evaluation}%\")\n",
    "            writer.add_scalar(\"accurary\", evaluation[\"accuracy\"], global_step)\n",
    "            writer.add_scalar(\"f1\", evaluation[\"f1\"], global_step)\n",
    "            writer.add_scalar(\"precision\", evaluation[\"precision\"], global_step)\n",
    "            writer.add_scalar(\"recall\", evaluation[\"recall\"], global_step)\n",
    "            model.train()\n",
    "        \n",
    "        # Te Quiero Demasiado\n",
    "        global_step += 1\n",
    "        progress_bar.update(1)\n",
    "        \n",
    "    \n",
    "writer.close\n",
    "# eval(model, eval_dataloader)"
   ]
  },
  {
   "cell_type": "code",
   "execution_count": null,
   "metadata": {},
   "outputs": [],
   "source": []
  },
  {
   "cell_type": "code",
   "execution_count": null,
   "metadata": {},
   "outputs": [],
   "source": []
  }
 ],
 "metadata": {
  "kernelspec": {
   "display_name": "pytorch",
   "language": "python",
   "name": "python3"
  },
  "language_info": {
   "codemirror_mode": {
    "name": "ipython",
    "version": 3
   },
   "file_extension": ".py",
   "mimetype": "text/x-python",
   "name": "python",
   "nbconvert_exporter": "python",
   "pygments_lexer": "ipython3",
   "version": "3.8.18"
  }
 },
 "nbformat": 4,
 "nbformat_minor": 2
}
